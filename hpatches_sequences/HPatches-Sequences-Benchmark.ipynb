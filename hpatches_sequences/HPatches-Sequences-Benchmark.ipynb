{
 "cells": [
  {
   "cell_type": "code",
   "execution_count": 1,
   "metadata": {},
   "outputs": [],
   "source": [
    "import matplotlib\n",
    "\n",
    "import matplotlib.pyplot as plt\n",
    "\n",
    "import numpy as np\n",
    "\n",
    "import os\n",
    "\n",
    "import torch\n",
    "\n",
    "from scipy.io import loadmat\n",
    "\n",
    "from tqdm.notebook import tqdm"
   ]
  },
  {
   "cell_type": "code",
   "execution_count": 2,
   "metadata": {},
   "outputs": [],
   "source": [
    "%matplotlib inline"
   ]
  },
  {
   "cell_type": "code",
   "execution_count": 3,
   "metadata": {},
   "outputs": [],
   "source": [
    "use_cuda = False # torch.cuda.is_available()\n",
    "device = torch.device('cuda:0' if use_cuda else 'cpu')"
   ]
  },
  {
   "cell_type": "code",
   "execution_count": 4,
   "metadata": {},
   "outputs": [],
   "source": [
    "# from SuperGluePretrainedNetwork.models.superglue import SuperGlue as SG\n",
    "# conf = {\n",
    "#         'output': 'matches-superglue',\n",
    "#         'model': {\n",
    "#             'name': 'superglue',\n",
    "#             'weights': 'outdoor',\n",
    "#             'sinkhorn_iterations': 50,\n",
    "#         },\n",
    "#     }\n",
    "\n",
    "# read_function = generate_read_function('d2-net')\n",
    "# top_k = None\n",
    "# dataset_path = 'd2-net/hpatches_sequences/hpatches-sequences-release'\n",
    "# seq_names = sorted(os.listdir(dataset_path))\n",
    "# keypoints_a, descriptors_a = read_function(seq_names[0], 1)\n",
    "# keypoints_b, descriptors_b = read_function(seq_names[0], 1)\n",
    "# matches = mnn_matcher(\n",
    "#                 torch.from_numpy(descriptors_a).to(device=device), \n",
    "#                 torch.from_numpy(descriptors_b).to(device=device)\n",
    "#             )\n",
    "# print(matches.shape, matches)\n",
    "\n",
    "# sg_matcher = SG({})\n",
    "# required_inputs = [\n",
    "#         'image0', 'keypoints0', 'scores0', 'descriptors0',\n",
    "#         'image1', 'keypoints1', 'scores1', 'descriptors1',\n",
    "#     ]\n",
    "# sg_matches = sg_matcher({\n",
    "#                             \"image0\":, \"image1\":,\n",
    "#                             \"descriptors0\":descriptors_a, \"descriptors1\":descriptors_b,\n",
    "#                             \"keypoints0\":keypoints_a, \"keypoints1\":keypoints_b,\n",
    "#                         })\n",
    "# print(sg_matches)"
   ]
  },
  {
   "cell_type": "code",
   "execution_count": 5,
   "metadata": {},
   "outputs": [],
   "source": [
    "# Add new methods here.\n",
    "methods = ['d2-net-caffe', 'd2-net-torch', 'd2-net-e2inv-torch-big']\n",
    "names = ['D2-Net Caffe', 'D2-Net Torch', 'D2 E2Inv']\n",
    "colors = ['red', 'green', 'blue', 'yellow']\n",
    "linestyles = ['-', '-', '-', '-']\n",
    "# methods = ['hesaff', 'hesaffnet', 'delf', 'delf-new', 'superpoint', 'lf-net', 'd2-net', 'd2-net-ms', 'd2-net-trained', 'd2-net-trained-ms']\n",
    "# names = ['Hes. Aff. + Root-SIFT', 'HAN + HN++', 'DELF', 'DELF New', 'SuperPoint', 'LF-Net', 'D2-Net', 'D2-Net MS', 'D2-Net Trained', 'D2-Net Trained MS']\n",
    "# colors = ['black', 'orange', 'red', 'red', 'blue', 'brown', 'purple', 'green', 'purple', 'green']\n",
    "# linestyles = ['-', '-', '-', '--', '-', '-', '-', '-', '--', '--']"
   ]
  },
  {
   "cell_type": "code",
   "execution_count": 6,
   "metadata": {},
   "outputs": [],
   "source": [
    "# Change here if you want to use top K or all features.\n",
    "# top_k = 2000\n",
    "top_k = None "
   ]
  },
  {
   "cell_type": "code",
   "execution_count": 7,
   "metadata": {},
   "outputs": [],
   "source": [
    "n_i = 52\n",
    "n_v = 56"
   ]
  },
  {
   "cell_type": "code",
   "execution_count": 8,
   "metadata": {},
   "outputs": [],
   "source": [
    "# d2-net/hpatches_sequences/\n",
    "dataset_path = 'hpatches-sequences-release'"
   ]
  },
  {
   "cell_type": "code",
   "execution_count": 9,
   "metadata": {},
   "outputs": [],
   "source": [
    "lim = [1, 15]\n",
    "rng = np.arange(lim[0], lim[1] + 1)"
   ]
  },
  {
   "cell_type": "code",
   "execution_count": 10,
   "metadata": {},
   "outputs": [],
   "source": [
    "def mnn_matcher(descriptors_a, descriptors_b):\n",
    "    device = descriptors_a.device\n",
    "    sim = descriptors_a @ descriptors_b.t()\n",
    "    nn12 = torch.max(sim, dim=1)[1]\n",
    "    nn21 = torch.max(sim, dim=0)[1]\n",
    "    ids1 = torch.arange(0, sim.shape[0], device=device)\n",
    "    mask = (ids1 == nn21[nn12])\n",
    "    matches = torch.stack([ids1[mask], nn12[mask]])\n",
    "    return matches.t().data.cpu().numpy()"
   ]
  },
  {
   "cell_type": "code",
   "execution_count": 11,
   "metadata": {
    "scrolled": true
   },
   "outputs": [],
   "source": [
    "def benchmark_features(read_feats):\n",
    "    seq_names = sorted(os.listdir(dataset_path))\n",
    "    \n",
    "    n_feats = []\n",
    "    n_matches = []\n",
    "    seq_type = []\n",
    "    i_err = {thr: 0 for thr in rng}\n",
    "    v_err = {thr: 0 for thr in rng}\n",
    "    \n",
    "    for seq_idx, seq_name in tqdm(enumerate(seq_names), total=len(seq_names)):\n",
    "        keypoints_a, descriptors_a = read_feats(seq_name, 1)\n",
    "        n_feats.append(keypoints_a.shape[0])\n",
    "        \n",
    "        for im_idx in range(2, 7):\n",
    "            keypoints_b, descriptors_b = read_feats(seq_name, im_idx)\n",
    "            n_feats.append(keypoints_b.shape[0])\n",
    "            \n",
    "            matches = mnn_matcher(\n",
    "                torch.from_numpy(descriptors_a).to(device=device), \n",
    "                torch.from_numpy(descriptors_b).to(device=device)\n",
    "            )\n",
    "            \n",
    "            homography = np.loadtxt(os.path.join(dataset_path, seq_name, \"H_1_\" + str(im_idx)))\n",
    "            \n",
    "            pos_a = keypoints_a[matches[:, 0], : 2] \n",
    "            pos_a_h = np.concatenate([pos_a, np.ones([matches.shape[0], 1])], axis=1)\n",
    "            pos_b_proj_h = np.transpose(np.dot(homography, np.transpose(pos_a_h)))\n",
    "            pos_b_proj = pos_b_proj_h[:, : 2] / pos_b_proj_h[:, 2 :]\n",
    "            \n",
    "            pos_b = keypoints_b[matches[:, 1], : 2]\n",
    "            \n",
    "            dist = np.sqrt(np.sum((pos_b - pos_b_proj) ** 2, axis=1))\n",
    "            \n",
    "            n_matches.append(matches.shape[0])\n",
    "            seq_type.append(seq_name[0])\n",
    "            \n",
    "            if dist.shape[0] == 0:\n",
    "                dist = np.array([float(\"inf\")])\n",
    "            \n",
    "            for thr in rng:\n",
    "                if seq_name[0] == 'i':\n",
    "                    i_err[thr] += np.mean(dist <= thr)\n",
    "                else:\n",
    "                    v_err[thr] += np.mean(dist <= thr)\n",
    "    \n",
    "    seq_type = np.array(seq_type)\n",
    "    n_feats = np.array(n_feats)\n",
    "    n_matches = np.array(n_matches)\n",
    "    \n",
    "    return i_err, v_err, [seq_type, n_feats, n_matches]"
   ]
  },
  {
   "cell_type": "code",
   "execution_count": 12,
   "metadata": {},
   "outputs": [],
   "source": [
    "def summary(stats):\n",
    "    seq_type, n_feats, n_matches = stats\n",
    "    print('# Features: {:f} - [{:d}, {:d}]'.format(np.mean(n_feats), np.min(n_feats), np.max(n_feats)))\n",
    "    print('# Matches: Overall {:f}, Illumination {:f}, Viewpoint {:f}'.format(\n",
    "        np.sum(n_matches) / ((n_i + n_v) * 5),\n",
    "        np.sum(n_matches[seq_type == 'i']) / (n_i * 5),\n",
    "        np.sum(n_matches[seq_type == 'v']) / (n_v * 5))\n",
    "    )"
   ]
  },
  {
   "cell_type": "code",
   "execution_count": 13,
   "metadata": {},
   "outputs": [],
   "source": [
    "def generate_read_function(method, extension='ppm'):\n",
    "    def read_function(seq_name, im_idx):\n",
    "        aux = np.load(os.path.join(dataset_path, seq_name, '%d.%s.%s' % (im_idx, extension, method)))\n",
    "        if top_k is None:\n",
    "            return aux['keypoints'], aux['descriptors']\n",
    "        else:\n",
    "            assert('scores' in aux)\n",
    "            ids = np.argsort(aux['scores'])[-top_k :]\n",
    "            return aux['keypoints'][ids, :], aux['descriptors'][ids, :]\n",
    "    return read_function"
   ]
  },
  {
   "cell_type": "code",
   "execution_count": 14,
   "metadata": {},
   "outputs": [],
   "source": [
    "def sift_to_rootsift(descriptors):\n",
    "    return np.sqrt(descriptors / np.expand_dims(np.sum(np.abs(descriptors), axis=1), axis=1) + 1e-16)\n",
    "def parse_mat(mat):\n",
    "    keypoints = mat['keypoints'][:, : 2]\n",
    "    raw_descriptors = mat['descriptors']\n",
    "    l2_norm_descriptors = raw_descriptors / np.expand_dims(np.sum(raw_descriptors ** 2, axis=1), axis=1)\n",
    "    descriptors = sift_to_rootsift(l2_norm_descriptors)\n",
    "    if top_k is None:\n",
    "        return keypoints, descriptors\n",
    "    else:\n",
    "        assert('scores' in mat)\n",
    "        ids = np.argsort(mat['scores'][0])[-top_k :]\n",
    "        return keypoints[ids, :], descriptors[ids, :]"
   ]
  },
  {
   "cell_type": "code",
   "execution_count": 15,
   "metadata": {},
   "outputs": [],
   "source": [
    "if top_k is None:\n",
    "    cache_dir = 'cache'\n",
    "else:\n",
    "    cache_dir = 'cache-top'\n",
    "if not os.path.isdir(cache_dir):\n",
    "    os.mkdir(cache_dir)"
   ]
  },
  {
   "cell_type": "code",
   "execution_count": 16,
   "metadata": {},
   "outputs": [],
   "source": [
    "errors = {}"
   ]
  },
  {
   "cell_type": "code",
   "execution_count": 17,
   "metadata": {},
   "outputs": [
    {
     "name": "stdout",
     "output_type": "stream",
     "text": [
      "d2-net-caffe\n",
      "Loading precomputed errors...\n",
      "# Features: 2996.029321 - [641, 9341]\n",
      "# Matches: Overall 1175.662963, Illumination 934.065385, Viewpoint 1400.003571\n",
      "d2-net-torch\n",
      "Loading precomputed errors...\n",
      "# Features: 4431.498457 - [946, 13083]\n",
      "# Matches: Overall 1470.109259, Illumination 1196.000000, Viewpoint 1724.639286\n",
      "d2-net-e2inv-torch-big\n"
     ]
    },
    {
     "data": {
      "application/vnd.jupyter.widget-view+json": {
       "model_id": "63de9b35e3e043e5b02c906c0fffbe4f",
       "version_major": 2,
       "version_minor": 0
      },
      "text/plain": [
       "  0%|          | 0/108 [00:00<?, ?it/s]"
      ]
     },
     "metadata": {},
     "output_type": "display_data"
    },
    {
     "name": "stdout",
     "output_type": "stream",
     "text": [
      "# Features: 3914.415123 - [723, 10353]\n",
      "# Matches: Overall 1394.166667, Illumination 998.169231, Viewpoint 1761.878571\n"
     ]
    },
    {
     "name": "stderr",
     "output_type": "stream",
     "text": [
      "/home/kinal/miniconda3/envs/vpr/lib/python3.7/site-packages/numpy/core/_asarray.py:136: VisibleDeprecationWarning: Creating an ndarray from ragged nested sequences (which is a list-or-tuple of lists-or-tuples-or ndarrays with different lengths or shapes) is deprecated. If you meant to do this, you must specify 'dtype=object' when creating the ndarray\n",
      "  return array(a, dtype, copy=False, order=order, subok=True)\n"
     ]
    }
   ],
   "source": [
    "for method in methods:\n",
    "    output_file = os.path.join(cache_dir, method + '.npy')\n",
    "    print(method)\n",
    "    if method == 'hesaff':\n",
    "        read_function = lambda seq_name, im_idx: parse_mat(loadmat(os.path.join(dataset_path, seq_name, '%d.ppm.hesaff' % im_idx), appendmat=False))\n",
    "    else:\n",
    "        if method == 'delf' or method == 'delf-new':\n",
    "            read_function = generate_read_function(method, extension='png')\n",
    "        else:\n",
    "            read_function = generate_read_function(method)\n",
    "    if os.path.exists(output_file):\n",
    "        print('Loading precomputed errors...')\n",
    "        errors[method] = np.load(output_file, allow_pickle=True)\n",
    "    else:\n",
    "        errors[method] = benchmark_features(read_function)\n",
    "        np.save(output_file, errors[method])\n",
    "    summary(errors[method][-1])"
   ]
  },
  {
   "cell_type": "markdown",
   "metadata": {},
   "source": [
    "# Plotting"
   ]
  },
  {
   "cell_type": "code",
   "execution_count": 18,
   "metadata": {},
   "outputs": [],
   "source": [
    "plt_lim = [1, 10]\n",
    "plt_rng = np.arange(plt_lim[0], plt_lim[1] + 1)"
   ]
  },
  {
   "cell_type": "code",
   "execution_count": 19,
   "metadata": {},
   "outputs": [
    {
     "data": {
      "image/png": "[encoded data removed]",
      "text/plain": [
       "<Figure size 1080x360 with 3 Axes>"
      ]
     },
     "metadata": {
      "needs_background": "light"
     },
     "output_type": "display_data"
    }
   ],
   "source": [
    "plt.rc('axes', titlesize=25)\n",
    "plt.rc('axes', labelsize=25)\n",
    "\n",
    "plt.figure(figsize=(15, 5))\n",
    "\n",
    "plt.subplot(1, 3, 1)\n",
    "for method, name, color, ls in zip(methods, names, colors, linestyles):\n",
    "    i_err, v_err, _ = errors[method]\n",
    "    plt.plot(plt_rng, [(i_err[thr] + v_err[thr]) / ((n_i + n_v) * 5) for thr in plt_rng], color=color, ls=ls, linewidth=3, label=name)\n",
    "plt.title('Overall')\n",
    "plt.xlim(plt_lim)\n",
    "plt.xticks(plt_rng)\n",
    "plt.ylabel('MMA')\n",
    "plt.ylim([0, 1])\n",
    "plt.grid()\n",
    "plt.tick_params(axis='both', which='major', labelsize=20)\n",
    "plt.legend()\n",
    "\n",
    "plt.subplot(1, 3, 2)\n",
    "for method, name, color, ls in zip(methods, names, colors, linestyles):\n",
    "    i_err, v_err, _ = errors[method]\n",
    "    plt.plot(plt_rng, [i_err[thr] / (n_i * 5) for thr in plt_rng], color=color, ls=ls, linewidth=3, label=name)\n",
    "plt.title('Illumination')\n",
    "plt.xlabel('threshold [px]')\n",
    "plt.xlim(plt_lim)\n",
    "plt.xticks(plt_rng)\n",
    "plt.ylim([0, 1])\n",
    "plt.gca().axes.set_yticklabels([])\n",
    "plt.grid()\n",
    "plt.tick_params(axis='both', which='major', labelsize=20)\n",
    "\n",
    "plt.subplot(1, 3, 3)\n",
    "for method, name, color, ls in zip(methods, names, colors, linestyles):\n",
    "    i_err, v_err, _ = errors[method]\n",
    "    plt.plot(plt_rng, [v_err[thr] / (n_v * 5) for thr in plt_rng], color=color, ls=ls, linewidth=3, label=name)\n",
    "plt.title('Viewpoint')\n",
    "plt.xlim(plt_lim)\n",
    "plt.xticks(plt_rng)\n",
    "plt.ylim([0, 1])\n",
    "plt.gca().axes.set_yticklabels([])\n",
    "plt.grid()\n",
    "plt.tick_params(axis='both', which='major', labelsize=20)\n",
    "\n",
    "if top_k is None:\n",
    "    plt.savefig('hseq.png', bbox_inches='tight', dpi=300)\n",
    "else:\n",
    "    plt.savefig('hseq-top.png', bbox_inches='tight', dpi=300)"
   ]
  },
  {
   "cell_type": "code",
   "execution_count": null,
   "metadata": {},
   "outputs": [],
   "source": []
  }
 ],
 "metadata": {
  "kernelspec": {
   "display_name": "Python 3",
   "language": "python",
   "name": "python3"
  },
  "language_info": {
   "codemirror_mode": {
    "name": "ipython",
    "version": 3
   },
   "file_extension": ".py",
   "mimetype": "text/x-python",
   "name": "python",
   "nbconvert_exporter": "python",
   "pygments_lexer": "ipython3",
   "version": "3.7.9"
  }
 },
 "nbformat": 4,
 "nbformat_minor": 2
}
